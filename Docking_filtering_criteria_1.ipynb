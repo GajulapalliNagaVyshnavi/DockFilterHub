{
  "nbformat": 4,
  "nbformat_minor": 0,
  "metadata": {
    "colab": {
      "provenance": [],
      "authorship_tag": "ABX9TyOAUw9ezjDk3IapNBJV97xW",
      "include_colab_link": true
    },
    "kernelspec": {
      "name": "python3",
      "display_name": "Python 3"
    },
    "language_info": {
      "name": "python"
    }
  },
  "cells": [
    {
      "cell_type": "markdown",
      "metadata": {
        "id": "view-in-github",
        "colab_type": "text"
      },
      "source": [
        "<a href=\"https://colab.research.google.com/github/GajulapalliNagaVyshnavi/DockFilterHub/blob/main/Docking_filtering_criteria_1.ipynb\" target=\"_parent\"><img src=\"https://colab.research.google.com/assets/colab-badge.svg\" alt=\"Open In Colab\"/></a>"
      ]
    },
    {
      "cell_type": "code",
      "execution_count": null,
      "metadata": {
        "id": "V_rXmFij2fyS"
      },
      "outputs": [],
      "source": [
        "mkdir input_ligand_files\n"
      ]
    },
    {
      "cell_type": "code",
      "source": [
        "mkdir input_protein_files"
      ],
      "metadata": {
        "id": "NJFpNyJ_HD28"
      },
      "execution_count": null,
      "outputs": []
    },
    {
      "cell_type": "markdown",
      "source": [
        "**Ligand Diversity**"
      ],
      "metadata": {
        "id": "TioKd1CGT4pY"
      }
    },
    {
      "cell_type": "code",
      "source": [
        "import os\n",
        "from rdkit import Chem\n",
        "from rdkit.Chem import rdFingerprintGenerator, DataStructs\n",
        "\n",
        "def compute_tanimoto(fp1, fp2):\n",
        "    \"\"\"\n",
        "    Compute Tanimoto similarity between two fingerprints.\n",
        "    Args:\n",
        "        fp1, fp2: RDKit fingerprint objects.\n",
        "    Returns:\n",
        "        float: Tanimoto similarity score.\n",
        "    \"\"\"\n",
        "    return DataStructs.TanimotoSimilarity(fp1, fp2)\n",
        "\n",
        "def filter_ligands(folder_path, threshold=0.8):\n",
        "    \"\"\"\n",
        "    Filter ligands based on Tanimoto similarity from a folder.\n",
        "\n",
        "    Args:\n",
        "        folder_path (str): Path to the folder containing ligand files (.mol or .sdf).\n",
        "        threshold (float): Similarity threshold (default 0.8).\n",
        "\n",
        "    Returns:\n",
        "        dict: Mapping of ligand file names to True (pass) or False (fail).\n",
        "    \"\"\"\n",
        "    # Get a list of all ligand files in the folder with .mol or .sdf extensions\n",
        "    ligand_files = [os.path.join(folder_path, f) for f in os.listdir(folder_path) if f.endswith(\".mol\") or f.endswith(\".sdf\")]\n",
        "\n",
        "    results = {}  # Dictionary to store results\n",
        "    fingerprints = []  # List to store fingerprints of all ligands\n",
        "    generator = rdFingerprintGenerator.GetMorganGenerator(radius=2)  # Initialize fingerprint generator\n",
        "\n",
        "    for ligand in ligand_files:\n",
        "        if ligand.endswith(\".mol\"):\n",
        "            mol = Chem.MolFromMolFile(ligand, removeHs=True)  # Read molecule from .mol file\n",
        "        elif ligand.endswith(\".sdf\"):\n",
        "            suppl = Chem.SDMolSupplier(ligand)\n",
        "            mol = next((m for m in suppl if m), None)  # Read first valid molecule from .sdf file\n",
        "        else:\n",
        "            results[ligand] = False  # Skip files that are not .mol or .sdf\n",
        "            continue\n",
        "\n",
        "        if not mol:\n",
        "            results[ligand] = False  # Skip if molecule could not be read\n",
        "            continue\n",
        "\n",
        "        fp = AllChem.GetMorganFingerprintAsBitVect(mol, 2)\n",
        "        fingerprints.append(fp)\n",
        "\n",
        "    for ligand, fp in zip(ligand_files, fingerprints):\n",
        "        # Compute maximum Tanimoto similarity with other fingerprints\n",
        "        max_similarity = max((compute_tanimoto(fp, ref_fp) for ref_fp in fingerprints if ref_fp != fp), default=0)\n",
        "        results[ligand] = max_similarity < threshold  # Check if similarity is below threshold\n",
        "\n",
        "    return results\n",
        "\n",
        "# Example usage:\n",
        "folder_path = \"/content/input_files\"  # Path to folder containing ligand files\n",
        "filter_results = filter_ligands(folder_path)\n",
        "print(filter_results)  # Print the filtering results\n"
      ],
      "metadata": {
        "colab": {
          "base_uri": "https://localhost:8080/"
        },
        "id": "2F_FW49GS_dL",
        "outputId": "e6b558f2-da45-4327-e6bb-52494a08a05b"
      },
      "execution_count": null,
      "outputs": [
        {
          "output_type": "stream",
          "name": "stdout",
          "text": [
            "{'/content/input_files/1a0q_ligand.sdf': True}\n"
          ]
        },
        {
          "output_type": "stream",
          "name": "stderr",
          "text": [
            "[06:16:25] Warning: molecule is tagged as 2D, but at least one Z coordinate is not zero. Marking the mol as 3D.\n",
            "[06:16:25] DEPRECATION WARNING: please use MorganGenerator\n"
          ]
        }
      ]
    },
    {
      "cell_type": "markdown",
      "source": [
        "**Ligand Properties**"
      ],
      "metadata": {
        "id": "OuxtilYeXLIp"
      }
    },
    {
      "cell_type": "code",
      "source": [
        "import os\n",
        "from rdkit import Chem\n",
        "from rdkit.Chem import Descriptors, Lipinski\n",
        "\n",
        "def check_ligand_properties(mol):\n",
        "    \"\"\"\n",
        "    Check ligand properties for a given molecule.\n",
        "\n",
        "    Args:\n",
        "    - mol: RDKit molecule object.\n",
        "\n",
        "    Returns:\n",
        "    - bool: True if ligand properties meet the criteria, False otherwise.\n",
        "    \"\"\"\n",
        "    # Extract molecular weight and rotatable bonds\n",
        "    mol_weight = Descriptors.MolWt(mol)\n",
        "    rotatable_bonds = Lipinski.NumRotatableBonds(mol)\n",
        "\n",
        "    # Check atom types by ensuring only allowed atoms are present\n",
        "    allowed_atoms = {'C', 'N', 'O', 'P', 'S', 'H'}  # Example of allowed atoms; modify as necessary\n",
        "    for atom in mol.GetAtoms():\n",
        "        if atom.GetSymbol() not in allowed_atoms:\n",
        "            return False\n",
        "\n",
        "    # Apply the filtering criteria\n",
        "    if (100 <= mol_weight <= 900) and (rotatable_bonds <= 50):\n",
        "        return True\n",
        "    else:\n",
        "        return False\n",
        "\n",
        "def filter_ligands(folder_path):\n",
        "    \"\"\"\n",
        "    Filter ligands based on specified criteria (MW, rotatable bonds, atom types).\n",
        "\n",
        "    Args:\n",
        "        folder_path (str): Path to the folder containing ligand files (.mol or .sdf).\n",
        "\n",
        "    Returns:\n",
        "        dict: Mapping of ligand file names to True (pass) or False (fail).\n",
        "    \"\"\"\n",
        "    # Get a list of all ligand files in the folder with .mol or .sdf extensions\n",
        "    ligand_files = [os.path.join(folder_path, f) for f in os.listdir(folder_path) if f.endswith(\".mol\") or f.endswith(\".sdf\")]\n",
        "\n",
        "    results = {}  # Dictionary to store results\n",
        "\n",
        "    for ligand in ligand_files:\n",
        "        if ligand.endswith(\".mol\"):\n",
        "            mol = Chem.MolFromMolFile(ligand, removeHs=True)  # Read molecule from .mol file\n",
        "        elif ligand.endswith(\".sdf\"):\n",
        "            suppl = Chem.SDMolSupplier(ligand)\n",
        "            mol = next((m for m in suppl if m), None)  # Read first valid molecule from .sdf file\n",
        "        else:\n",
        "            results[ligand] = False  # Skip files that are not .mol or .sdf\n",
        "            continue\n",
        "\n",
        "        if not mol:\n",
        "            results[ligand] = False  # Skip if molecule could not be read\n",
        "            continue\n",
        "\n",
        "        # Check ligand properties based on criteria\n",
        "        results[ligand] = check_ligand_properties(mol)\n",
        "\n",
        "    return results\n",
        "\n",
        "# Example usage:\n",
        "folder_path = \"/content/input_files\"  # Path to folder containing .mol and .sdf files\n",
        "filter_results = filter_ligands(folder_path)\n",
        "print(filter_results)  # Print the filtering results\n"
      ],
      "metadata": {
        "colab": {
          "base_uri": "https://localhost:8080/"
        },
        "id": "Jl59FtjxW-ES",
        "outputId": "a82a6f4e-2cfa-4803-e9bd-f9add41ec4ee"
      },
      "execution_count": null,
      "outputs": [
        {
          "output_type": "stream",
          "name": "stdout",
          "text": [
            "{'/content/input_files/1a0q_ligand.sdf': True}\n"
          ]
        },
        {
          "output_type": "stream",
          "name": "stderr",
          "text": [
            "[06:32:21] Warning: molecule is tagged as 2D, but at least one Z coordinate is not zero. Marking the mol as 3D.\n"
          ]
        }
      ]
    },
    {
      "cell_type": "markdown",
      "source": [
        "**Ligand Strain Energy**"
      ],
      "metadata": {
        "id": "yYoxrmPUaM08"
      }
    },
    {
      "cell_type": "code",
      "source": [
        "import os\n",
        "from rdkit import Chem\n",
        "from rdkit.Chem import rdFingerprintGenerator, DataStructs\n",
        "from rdkit.Chem import AllChem\n",
        "\n",
        "def compute_tanimoto(fp1, fp2):\n",
        "    \"\"\"\n",
        "    Compute Tanimoto similarity between two fingerprints.\n",
        "    Args:\n",
        "        fp1, fp2: RDKit fingerprint objects.\n",
        "    Returns:\n",
        "        float: Tanimoto similarity score.\n",
        "    \"\"\"\n",
        "    return DataStructs.TanimotoSimilarity(fp1, fp2)\n",
        "\n",
        "def check_ligand_strain_energy_and_similarity(folder_path, strain_energy_threshold=10.0, similarity_threshold=0.8):\n",
        "    \"\"\"\n",
        "    Filter ligands based on strain energy and Tanimoto similarity.\n",
        "\n",
        "    Args:\n",
        "        folder_path (str): Path to the folder containing ligand files (.mol or .sdf).\n",
        "        strain_energy_threshold (float): Strain energy threshold (default 10.0 kcal/mol).\n",
        "        similarity_threshold (float): Tanimoto similarity threshold (default 0.8).\n",
        "\n",
        "    Returns:\n",
        "        dict: Mapping of ligand file names to True (pass) or False (fail).\n",
        "    \"\"\"\n",
        "    ligand_files = [os.path.join(folder_path, f) for f in os.listdir(folder_path) if f.endswith(\".mol\") or f.endswith(\".sdf\")]\n",
        "    results = {}  # Dictionary to store results\n",
        "    fingerprints = []  # List to store fingerprints of all ligands\n",
        "    generator = rdFingerprintGenerator.GetMorganGenerator(radius=2)  # Initialize fingerprint generator\n",
        "\n",
        "    for ligand in ligand_files:\n",
        "        if ligand.endswith(\".mol\"):\n",
        "            mol = Chem.MolFromMolFile(ligand, removeHs=True)  # Read molecule from .mol file\n",
        "        elif ligand.endswith(\".sdf\"):\n",
        "            suppl = Chem.SDMolSupplier(ligand)\n",
        "            mol = next((m for m in suppl if m), None)  # Read first valid molecule from .sdf file\n",
        "        else:\n",
        "            results[ligand] = False  # Skip files that are not .mol or .sdf\n",
        "            continue\n",
        "\n",
        "        if not mol:\n",
        "            results[ligand] = False  # Skip if molecule could not be read\n",
        "            continue\n",
        "\n",
        "        # Check strain energy (if available)\n",
        "        strain_energy = mol.GetProp('_StrainEnergy') if mol.HasProp('_StrainEnergy') else None\n",
        "        if strain_energy and float(strain_energy) > strain_energy_threshold:\n",
        "            results[ligand] = False  # Skip if strain energy is above threshold\n",
        "            continue\n",
        "\n",
        "        # Compute the fingerprint and store it for similarity calculation\n",
        "        fp = AllChem.GetMorganFingerprintAsBitVect(mol, 2)\n",
        "        fingerprints.append(fp)\n",
        "\n",
        "    # Now compute the Tanimoto similarity for each ligand\n",
        "    for ligand, fp in zip(ligand_files, fingerprints):\n",
        "        # Compute maximum Tanimoto similarity with other fingerprints\n",
        "        max_similarity = max((compute_tanimoto(fp, ref_fp) for ref_fp in fingerprints if ref_fp != fp), default=0)\n",
        "        if max_similarity >= similarity_threshold:\n",
        "            results[ligand] = False  # Skip if similarity is above threshold\n",
        "\n",
        "    return results\n",
        "\n",
        "# Example usage:\n",
        "folder_path = \"/content/input_files\"  # Path to folder containing ligand files\n",
        "filter_results = check_ligand_strain_energy_and_similarity(folder_path)\n",
        "print(filter_results)  # Print the filtering results\n"
      ],
      "metadata": {
        "colab": {
          "base_uri": "https://localhost:8080/"
        },
        "id": "0Vy0DLBNZoYz",
        "outputId": "3e6b52f7-864e-4906-c456-1b80b929288e"
      },
      "execution_count": null,
      "outputs": [
        {
          "output_type": "stream",
          "name": "stdout",
          "text": [
            "{}\n"
          ]
        },
        {
          "output_type": "stream",
          "name": "stderr",
          "text": [
            "[06:43:49] Warning: molecule is tagged as 2D, but at least one Z coordinate is not zero. Marking the mol as 3D.\n",
            "[06:43:49] DEPRECATION WARNING: please use MorganGenerator\n"
          ]
        }
      ]
    },
    {
      "cell_type": "code",
      "source": [
        "#########NEW\n",
        "import os\n",
        "from rdkit import Chem\n",
        "from rdkit.Chem import rdFingerprintGenerator, DataStructs\n",
        "from rdkit.Chem import AllChem\n",
        "\n",
        "def compute_tanimoto(fp1, fp2):\n",
        "    \"\"\"\n",
        "    Compute Tanimoto similarity between two fingerprints.\n",
        "    Args:\n",
        "        fp1, fp2: RDKit fingerprint objects.\n",
        "    Returns:\n",
        "        float: Tanimoto similarity score.\n",
        "    \"\"\"\n",
        "    return DataStructs.TanimotoSimilarity(fp1, fp2)\n",
        "\n",
        "def Ligand_Strain_Energy(folder_path, strain_energy_threshold=10.0, similarity_threshold=0.8):\n",
        "    \"\"\"\n",
        "    Filter ligands based on strain energy and Tanimoto similarity.\n",
        "\n",
        "    Args:\n",
        "        folder_path (str): Path to the folder containing ligand files (.mol or .sdf).\n",
        "        strain_energy_threshold (float): Strain energy threshold (default 10.0 kcal/mol).\n",
        "        similarity_threshold (float): Tanimoto similarity threshold (default 0.8).\n",
        "\n",
        "    Returns:\n",
        "        bool: True if at least one ligand passes all criteria, False otherwise.\n",
        "    \"\"\"\n",
        "    ligand_files = [os.path.join(folder_path, f) for f in os.listdir(folder_path) if f.endswith(\".mol\") or f.endswith(\".sdf\")]\n",
        "    fingerprints = []\n",
        "    generator = rdFingerprintGenerator.GetMorganGenerator(radius=2)\n",
        "\n",
        "    for ligand in ligand_files:\n",
        "        if ligand.endswith(\".mol\"):\n",
        "            mol = Chem.MolFromMolFile(ligand, removeHs=True)\n",
        "        elif ligand.endswith(\".sdf\"):\n",
        "            suppl = Chem.SDMolSupplier(ligand)\n",
        "            mol = next((m for m in suppl if m), None)\n",
        "        else:\n",
        "            continue\n",
        "\n",
        "        if not mol:\n",
        "            continue\n",
        "\n",
        "        strain_energy = mol.GetProp('_StrainEnergy') if mol.HasProp('_StrainEnergy') else None\n",
        "        if strain_energy and float(strain_energy) > strain_energy_threshold:\n",
        "            continue\n",
        "\n",
        "        fp = AllChem.GetMorganFingerprintAsBitVect(mol, 2)\n",
        "        fingerprints.append(fp)\n",
        "\n",
        "    for i, fp in enumerate(fingerprints):\n",
        "        max_similarity = max((compute_tanimoto(fp, ref_fp) for j, ref_fp in enumerate(fingerprints) if i != j), default=0)\n",
        "        if max_similarity < similarity_threshold:\n",
        "            return True\n",
        "\n",
        "    return False\n",
        "\n",
        "# # Example usage:\n",
        "# folder_path = \"/content/input_files\"  # Path to folder containing ligand files\n",
        "# result = check_ligand_strain_energy_and_similarity(folder_path)\n",
        "# print(result)\n"
      ],
      "metadata": {
        "id": "CIZkih6F3q9k"
      },
      "execution_count": null,
      "outputs": []
    },
    {
      "cell_type": "markdown",
      "source": [
        "**Protein Quality**"
      ],
      "metadata": {
        "id": "ZRluD5aVb-NM"
      }
    },
    {
      "cell_type": "code",
      "source": [
        "import os\n",
        "from Bio import PDB\n",
        "\n",
        "def filter_proteins(folder_path, resolution_threshold=2.5):\n",
        "    \"\"\"\n",
        "    Filter protein structures based on resolution from a folder.\n",
        "\n",
        "    Args:\n",
        "        folder_path (str): Path to the folder containing PDB files.\n",
        "        resolution_threshold (float): Resolution threshold (default 2.5 Å).\n",
        "\n",
        "    Returns:\n",
        "        dict: Mapping of PDB file names to True (pass) or False (fail) based on resolution.\n",
        "    \"\"\"\n",
        "    # Get a list of all PDB files in the folder\n",
        "    pdb_files = [os.path.join(folder_path, f) for f in os.listdir(folder_path) if f.endswith(\".pdb\")]\n",
        "\n",
        "    results = {}  # Dictionary to store results\n",
        "\n",
        "    for pdb_file in pdb_files:\n",
        "        try:\n",
        "            # Parse the PDB file using Biopython's PDB parser\n",
        "            parser = PDB.PDBParser(QUIET=True)\n",
        "            structure = parser.get_structure(pdb_file, pdb_file)\n",
        "\n",
        "            # Extract the resolution from the PDB header\n",
        "            resolution = structure.header.get('resolution')\n",
        "\n",
        "            # Check if the resolution is available and meets the threshold\n",
        "            if resolution and resolution < resolution_threshold:\n",
        "                results[pdb_file] = True  # Pass\n",
        "            else:\n",
        "                results[pdb_file] = False  # Fail\n",
        "        except Exception as e:\n",
        "            # In case of error (e.g., unreadable PDB), mark it as False\n",
        "            results[pdb_file] = False\n",
        "            print(f\"Error processing {pdb_file}: {e}\")\n",
        "\n",
        "    return results\n",
        "\n",
        "# Example usage\n",
        "folder_path = \"/content/input_protein_files\"  # Replace with your folder path\n",
        "filter_results = filter_proteins(folder_path)\n",
        "print(filter_results)  # Print the filtering results\n"
      ],
      "metadata": {
        "colab": {
          "base_uri": "https://localhost:8080/"
        },
        "id": "s_5FMZrZaFvq",
        "outputId": "ffe43a83-0cee-47ae-e676-3454db8a34eb"
      },
      "execution_count": null,
      "outputs": [
        {
          "output_type": "stream",
          "name": "stdout",
          "text": [
            "{'/content/input_protein_files/1a0q_protein.pdb': False}\n"
          ]
        }
      ]
    },
    {
      "cell_type": "markdown",
      "source": [
        "**Structural Quality**"
      ],
      "metadata": {
        "id": "qx-6_OThepM8"
      }
    },
    {
      "cell_type": "code",
      "source": [
        "import os\n",
        "from Bio import PDB\n",
        "\n",
        "def check_structure_quality(pdb_file):\n",
        "    \"\"\"\n",
        "    Check the quality of a PDB file based on resolution, R-factor, and correlation.\n",
        "    Args:\n",
        "        pdb_file (str): Path to the PDB file.\n",
        "    Returns:\n",
        "        bool: True if the file meets the structural quality criteria, False otherwise.\n",
        "    \"\"\"\n",
        "    parser = PDB.PDBParser(QUIET=True)\n",
        "\n",
        "    try:\n",
        "        structure = parser.get_structure('Protein', pdb_file)\n",
        "    except Exception as e:\n",
        "        print(f\"Error parsing {pdb_file}: {e}\")\n",
        "        return False\n",
        "\n",
        "    # Retrieve header information like resolution, R-factor, and correlation\n",
        "    resolution = structure.header.get('Resolution')\n",
        "    r_factor = structure.header.get('R_factor')\n",
        "    correlation = structure.header.get('Correlation')  # May need custom logic for this\n",
        "\n",
        "    # Assuming ligands are non-protein residues (HETATM)\n",
        "    ligands_complete = check_ligand_completeness(structure)\n",
        "\n",
        "    # Apply criteria checks\n",
        "    if (resolution and resolution <= 2.0 and\n",
        "        r_factor and r_factor <= 0.2 and\n",
        "        correlation and correlation >= 0.95 and\n",
        "        ligands_complete):\n",
        "        return True\n",
        "    else:\n",
        "        return False\n",
        "\n",
        "def check_ligand_completeness(structure):\n",
        "    \"\"\"\n",
        "    Check if ligands are 100% complete in the given structure.\n",
        "    Args:\n",
        "        structure (Bio.PDB.Structure.Structure): The PDB structure.\n",
        "    Returns:\n",
        "        bool: True if ligands are complete, False otherwise.\n",
        "    \"\"\"\n",
        "    ligands = []\n",
        "    for model in structure:\n",
        "        for chain in model:\n",
        "            for residue in chain:\n",
        "                if residue.id[0] != \" \":  # Non-standard residue (likely a ligand)\n",
        "                    ligands.append(residue)\n",
        "    # For simplicity, assume any ligands found mean completeness\n",
        "    return len(ligands) > 0\n",
        "\n",
        "def filter_pdb_files(folder_path):\n",
        "    \"\"\"\n",
        "    Filter PDB files in a folder based on structural quality criteria.\n",
        "\n",
        "    Args:\n",
        "        folder_path (str): Path to the folder containing PDB files.\n",
        "\n",
        "    Returns:\n",
        "        dict: A dictionary mapping PDB file names to True (pass) or False (fail).\n",
        "    \"\"\"\n",
        "    pdb_files = [os.path.join(folder_path, f) for f in os.listdir(folder_path) if f.endswith(\".pdb\")]\n",
        "\n",
        "    results = {}  # Dictionary to store results\n",
        "\n",
        "    for pdb_file in pdb_files:\n",
        "        results[pdb_file] = check_structure_quality(pdb_file)\n",
        "\n",
        "    return results\n",
        "\n",
        "# Example usage:\n",
        "folder_path = \"/content/input_protein_files\"  # Replace with actual folder path\n",
        "filter_results = filter_pdb_files(folder_path)\n",
        "print(filter_results)  # Print the filtering results (True or False for each PDB file)\n"
      ],
      "metadata": {
        "colab": {
          "base_uri": "https://localhost:8080/"
        },
        "id": "r204IbPccFKe",
        "outputId": "213476b1-146a-41dd-8ba3-66515cda899a"
      },
      "execution_count": null,
      "outputs": [
        {
          "output_type": "stream",
          "name": "stdout",
          "text": [
            "{'/content/input_protein_files/1a0q_protein.pdb': False}\n"
          ]
        }
      ]
    },
    {
      "cell_type": "markdown",
      "source": [
        "**Steric Clashes**"
      ],
      "metadata": {
        "id": "rD9HhDJVfRb9"
      }
    },
    {
      "cell_type": "code",
      "source": [
        "import os\n",
        "from typing import Dict\n",
        "\n",
        "\n",
        "def Steric_Clashes(pdb_file_path: str) -> bool:\n",
        "    \"\"\"\n",
        "    Placeholder function to check steric clashes for a given PDB file.\n",
        "    You can implement your steric clash detection logic here.\n",
        "\n",
        "    Args:\n",
        "        pdb_file_path (str): Path to the PDB file.\n",
        "\n",
        "    Returns:\n",
        "        bool: True if there are no significant steric clashes, False if there are.\n",
        "    \"\"\"\n",
        "    # Implement steric clash detection logic here.\n",
        "    # This is a dummy return to demonstrate the logic.\n",
        "    # Replace with your actual steric clash check.\n",
        "\n",
        "    # Placeholder: Assuming all files are valid for now\n",
        "    return True  # Change this based on your actual steric clash detection result\n",
        "\n",
        "\n",
        "def filter_pdbs_by_steric_clashes(folder_path: str) -> Dict[str, bool]:\n",
        "    \"\"\"\n",
        "    Filters PDB files in the given folder and checks if they meet the steric clash criteria.\n",
        "\n",
        "    Args:\n",
        "        folder_path (str): Path to the folder containing PDB files.\n",
        "\n",
        "    Returns:\n",
        "        Dict[str, bool]: Mapping of PDB file names to True (no steric clashes) or False (with steric clashes).\n",
        "    \"\"\"\n",
        "    # Get a list of all PDB files in the folder\n",
        "    pdb_files = [os.path.join(folder_path, f) for f in os.listdir(folder_path) if f.endswith('.pdb')]\n",
        "\n",
        "    results = {}  # Dictionary to store results\n",
        "\n",
        "    for pdb_file in pdb_files:\n",
        "        is_valid = Steric_Clashes(pdb_file)\n",
        "        results[pdb_file] = is_valid\n",
        "\n",
        "    return results\n",
        "\n",
        "\n",
        "# Example usage:\n",
        "folder_path = \"/content/input_protein_files\"  # Path to folder containing PDB files\n",
        "filter_results = filter_pdbs_by_steric_clashes(folder_path)\n",
        "print(filter_results)  # Print the filtering results\n"
      ],
      "metadata": {
        "colab": {
          "base_uri": "https://localhost:8080/"
        },
        "id": "1CZUh0VJfNxP",
        "outputId": "0126b7e3-cc86-47b2-c3ea-c45bbd259663"
      },
      "execution_count": null,
      "outputs": [
        {
          "output_type": "stream",
          "name": "stdout",
          "text": [
            "{'/content/input_protein_files/1a0q_protein.pdb': True}\n"
          ]
        }
      ]
    },
    {
      "cell_type": "code",
      "source": [
        "#########NEW\n",
        "import os\n",
        "from typing import List\n",
        "\n",
        "def check_Steric_Clashes(pdb_file_path: str) -> bool:\n",
        "    \"\"\"\n",
        "    Placeholder function to check steric clashes for a given PDB file.\n",
        "    You can implement your steric clash detection logic here.\n",
        "\n",
        "    Args:\n",
        "        pdb_file_path (str): Path to the PDB file.\n",
        "\n",
        "    Returns:\n",
        "        bool: True if there are no significant steric clashes, False if there are.\n",
        "    \"\"\"\n",
        "    return True  # Replace with actual steric clash check\n",
        "\n",
        "def Steric_Clashes(folder_path: str) -> bool:\n",
        "    \"\"\"\n",
        "    Filters PDB files in the given folder and checks if at least one meets the steric clash criteria.\n",
        "\n",
        "    Args:\n",
        "        folder_path (str): Path to the folder containing PDB files.\n",
        "\n",
        "    Returns:\n",
        "        bool: True if at least one PDB file passes all criteria, False otherwise.\n",
        "    \"\"\"\n",
        "    pdb_files = [os.path.join(folder_path, f) for f in os.listdir(folder_path) if f.endswith('.pdb')]\n",
        "\n",
        "    for pdb_file in pdb_files:\n",
        "        if check_Steric_Clashes(pdb_file):\n",
        "            return True\n",
        "\n",
        "    return False\n",
        "\n",
        "# # Example usage:\n",
        "# folder_path = \"/content/input_protein_files\"\n",
        "# result = filter_pdbs_by_steric_clashes(folder_path)\n",
        "# print(result)\n"
      ],
      "metadata": {
        "id": "3FkIN4Rw4MRT"
      },
      "execution_count": null,
      "outputs": []
    },
    {
      "cell_type": "markdown",
      "source": [
        "**Covalent Ligands/Artifacts**"
      ],
      "metadata": {
        "id": "vp0pGFlmiL7B"
      }
    },
    {
      "cell_type": "code",
      "source": [
        "#########NEW\n",
        "import os\n",
        "from rdkit import Chem\n",
        "from rdkit.Chem import AllChem\n",
        "\n",
        "def is_non_covalent_ligand(mol):\n",
        "    \"\"\"\n",
        "    Check if the ligand is non-covalent and biologically relevant.\n",
        "    Args:\n",
        "        mol: RDKit molecule object.\n",
        "    Returns:\n",
        "        bool: True if non-covalent and relevant, False otherwise.\n",
        "    \"\"\"\n",
        "    for bond in mol.GetBonds():\n",
        "        if bond.GetBondTypeAsDouble() > 1.0:\n",
        "            return False  # Covalent bond detected\n",
        "    return True\n",
        "\n",
        "def Covalent_Ligands(folder_path):\n",
        "    \"\"\"\n",
        "    Filter ligands to include only non-covalent, biologically relevant ligands.\n",
        "    Args:\n",
        "        folder_path (str): Path to the folder containing ligand files (.mol or .sdf).\n",
        "    Returns:\n",
        "        bool: True if at least one ligand passes, False otherwise.\n",
        "    \"\"\"\n",
        "    ligand_files = [os.path.join(folder_path, f) for f in os.listdir(folder_path) if f.endswith(\".mol\") or f.endswith(\".sdf\")]\n",
        "\n",
        "    for ligand in ligand_files:\n",
        "        if ligand.endswith(\".mol\"):\n",
        "            mol = Chem.MolFromMolFile(ligand, removeHs=True)\n",
        "        elif ligand.endswith(\".sdf\"):\n",
        "            suppl = Chem.SDMolSupplier(ligand)\n",
        "            mol = next((m for m in suppl if m), None)\n",
        "        else:\n",
        "            continue\n",
        "\n",
        "        if not mol:\n",
        "            continue\n",
        "\n",
        "        if is_non_covalent_ligand(mol):\n",
        "            return True  # At least one ligand is non-covalent and relevant\n",
        "\n",
        "    return False  # No valid ligand found\n",
        "\n",
        "# # Example usage:\n",
        "# folder_path = \"/content/input_ligand_files\"\n",
        "# result = filter_ligands(folder_path)\n",
        "# print(result)\n"
      ],
      "metadata": {
        "id": "trt-TNNd4eCA"
      },
      "execution_count": null,
      "outputs": []
    },
    {
      "cell_type": "markdown",
      "source": [
        "**Ligand Conformation & Validity**"
      ],
      "metadata": {
        "id": "_7kB1p8Vi4ii"
      }
    },
    {
      "cell_type": "code",
      "source": [
        "import os\n",
        "from rdkit import Chem\n",
        "from rdkit.Chem import AllChem, DataStructs\n",
        "from rdkit.Chem import rdFingerprintGenerator\n",
        "\n",
        "def compute_tanimoto(fp1, fp2):\n",
        "    \"\"\"\n",
        "    Compute Tanimoto similarity between two fingerprints.\n",
        "    Args:\n",
        "        fp1, fp2: RDKit fingerprint objects.\n",
        "    Returns:\n",
        "        float: Tanimoto similarity score.\n",
        "    \"\"\"\n",
        "    return DataStructs.TanimotoSimilarity(fp1, fp2)\n",
        "\n",
        "def filter_ligands(folder_path, threshold=0.8):\n",
        "    \"\"\"\n",
        "    Filter ligands based on Tanimoto similarity from a folder.\n",
        "\n",
        "    Args:\n",
        "        folder_path (str): Path to the folder containing ligand files (.mol or .sdf).\n",
        "        threshold (float): Similarity threshold (default 0.8).\n",
        "\n",
        "    Returns:\n",
        "        dict: Mapping of ligand file names to True (pass) or False (fail).\n",
        "    \"\"\"\n",
        "    # Get a list of all ligand files in the folder with .mol or .sdf extensions\n",
        "    ligand_files = [os.path.join(folder_path, f) for f in os.listdir(folder_path) if f.endswith(\".mol\") or f.endswith(\".sdf\")]\n",
        "\n",
        "    results = {}  # Dictionary to store results\n",
        "    fingerprints = []  # List to store fingerprints of all ligands\n",
        "    generator = rdFingerprintGenerator.GetMorganGenerator(radius=2)  # Initialize fingerprint generator\n",
        "\n",
        "    for ligand in ligand_files:\n",
        "        if ligand.endswith(\".mol\"):\n",
        "            mol = Chem.MolFromMolFile(ligand, removeHs=True)  # Read molecule from .mol file\n",
        "        elif ligand.endswith(\".sdf\"):\n",
        "            suppl = Chem.SDMolSupplier(ligand)\n",
        "            mol = next((m for m in suppl if m), None)  # Read first valid molecule from .sdf file\n",
        "        else:\n",
        "            results[ligand] = False  # Skip files that are not .mol or .sdf\n",
        "            continue\n",
        "\n",
        "        if not mol:\n",
        "            results[ligand] = False  # Skip if molecule could not be read\n",
        "            continue\n",
        "\n",
        "        fp = AllChem.GetMorganFingerprintAsBitVect(mol, 2)\n",
        "        fingerprints.append((ligand, fp))  # Store the fingerprint along with the file name\n",
        "\n",
        "    for ligand, fp in fingerprints:\n",
        "        # Compute maximum Tanimoto similarity with other fingerprints\n",
        "        max_similarity = max((compute_tanimoto(fp, ref_fp) for _, ref_fp in fingerprints if ref_fp != fp), default=0)\n",
        "\n",
        "        # Check if similarity is below threshold\n",
        "        if max_similarity < threshold:\n",
        "            results[ligand] = True  # Ligand passes the filter\n",
        "        else:\n",
        "            results[ligand] = False  # Ligand fails the filter\n",
        "\n",
        "    return results\n",
        "\n",
        "# Example usage:\n",
        "folder_path = \"/content/input_ligand_files\"  # Path to folder containing ligand files\n",
        "filter_results = filter_ligands(folder_path)\n",
        "print(filter_results)  # Print the filtering results\n"
      ],
      "metadata": {
        "colab": {
          "base_uri": "https://localhost:8080/"
        },
        "id": "8eoyuNQZiQFc",
        "outputId": "c76621b9-865e-4905-88ff-e8b8985c9201"
      },
      "execution_count": null,
      "outputs": [
        {
          "output_type": "stream",
          "name": "stdout",
          "text": [
            "{'/content/input_ligand_files/1a0q_ligand.sdf': True}\n"
          ]
        },
        {
          "output_type": "stream",
          "name": "stderr",
          "text": [
            "[07:23:57] Warning: molecule is tagged as 2D, but at least one Z coordinate is not zero. Marking the mol as 3D.\n",
            "[07:23:57] DEPRECATION WARNING: please use MorganGenerator\n"
          ]
        }
      ]
    },
    {
      "cell_type": "code",
      "source": [
        "########NEW\n",
        "import os\n",
        "from rdkit import Chem\n",
        "from rdkit.Chem import AllChem, DataStructs\n",
        "\n",
        "def compute_tanimoto(fp1, fp2):\n",
        "    \"\"\"\n",
        "    Compute Tanimoto similarity between two fingerprints.\n",
        "    Args:\n",
        "        fp1, fp2: RDKit fingerprint objects.\n",
        "    Returns:\n",
        "        float: Tanimoto similarity score.\n",
        "    \"\"\"\n",
        "    return DataStructs.TanimotoSimilarity(fp1, fp2)\n",
        "\n",
        "def Ligand_Conformation(folder_path, threshold=0.8):\n",
        "    \"\"\"\n",
        "    Filter ligands based on Tanimoto similarity from a folder.\n",
        "\n",
        "    Args:\n",
        "        folder_path (str): Path to the folder containing ligand files (.mol or .sdf).\n",
        "        threshold (float): Similarity threshold (default 0.8).\n",
        "\n",
        "    Returns:\n",
        "        bool: True if at least one ligand passes, False otherwise.\n",
        "    \"\"\"\n",
        "    ligand_files = [os.path.join(folder_path, f) for f in os.listdir(folder_path) if f.endswith(\".mol\") or f.endswith(\".sdf\")]\n",
        "    fingerprints = []\n",
        "\n",
        "    for ligand in ligand_files:\n",
        "        if ligand.endswith(\".mol\"):\n",
        "            mol = Chem.MolFromMolFile(ligand, removeHs=True)\n",
        "        elif ligand.endswith(\".sdf\"):\n",
        "            suppl = Chem.SDMolSupplier(ligand)\n",
        "            mol = next((m for m in suppl if m), None)\n",
        "        else:\n",
        "            continue\n",
        "\n",
        "        if not mol:\n",
        "            continue\n",
        "\n",
        "        fp = AllChem.GetMorganFingerprintAsBitVect(mol, 2)\n",
        "        fingerprints.append(fp)\n",
        "\n",
        "    for fp in fingerprints:\n",
        "        max_similarity = max((compute_tanimoto(fp, ref_fp) for ref_fp in fingerprints if ref_fp != fp), default=0)\n",
        "        if max_similarity < threshold:\n",
        "            return True  # At least one ligand passes\n",
        "\n",
        "    return False  # No ligand passes\n",
        "\n",
        "# # Example usage:\n",
        "# folder_path = \"/content/input_ligand_files\"\n",
        "# result = filter_ligands(folder_path)\n",
        "# print(result)\n"
      ],
      "metadata": {
        "id": "ciyUKGeP5MzH"
      },
      "execution_count": null,
      "outputs": []
    },
    {
      "cell_type": "code",
      "source": [
        "import os\n",
        "import glob\n",
        "from typing import List, Tuple\n",
        "\n",
        "def complex_energy_calculation(protein_file: str, ligand_file: str) -> float:\n",
        "    \"\"\"\n",
        "    Placeholder function to calculate the interaction energy between a protein and a ligand.\n",
        "    This should be replaced with an actual implementation using a molecular docking tool.\n",
        "    \"\"\"\n",
        "    # Implement actual energy calculation here (e.g., using AutoDock, RDKit, or another tool)\n",
        "    import random  # Placeholder for actual calculation\n",
        "    return random.uniform(-15, 5)  # Simulated binding energy values\n",
        "\n",
        "def filter_protein_ligand_interactions(protein_folder: str, ligand_folder: str, threshold: float = -7.0) -> List[Tuple[str, str, bool]]:\n",
        "    \"\"\"\n",
        "    Filters protein-ligand interactions based on complex energy calculations.\n",
        "\n",
        "    Parameters:\n",
        "    - protein_folder: Path to the folder containing protein PDB files.\n",
        "    - ligand_folder: Path to the folder containing ligand MOL/SDF files.\n",
        "    - threshold: Energy cutoff value for filtering (default: -7.0 kcal/mol).\n",
        "\n",
        "    Returns:\n",
        "    - A list of tuples containing (protein file, ligand file, True/False) where True indicates passing the threshold.\n",
        "    \"\"\"\n",
        "    protein_files = glob.glob(os.path.join(protein_folder, \"*.pdb\"))\n",
        "    ligand_files = glob.glob(os.path.join(ligand_folder, \"*.mol\")) + glob.glob(os.path.join(ligand_folder, \"*.sdf\"))\n",
        "\n",
        "    results = []\n",
        "    for protein in protein_files:\n",
        "        for ligand in ligand_files:\n",
        "            energy = complex_energy_calculation(protein, ligand)\n",
        "            results.append((protein, ligand, energy <= threshold))\n",
        "\n",
        "    return results\n",
        "\n",
        "# Example usage:\n",
        "# protein_folder = \"path/to/protein_folder\"\n",
        "# ligand_folder = \"path/to/ligand_folder\"\n",
        "# filtered_results = filter_protein_ligand_interactions(protein_folder, ligand_folder)\n",
        "# print(filtered_results)"
      ],
      "metadata": {
        "id": "A3SdFsyrjWBs"
      },
      "execution_count": null,
      "outputs": []
    }
  ]
}