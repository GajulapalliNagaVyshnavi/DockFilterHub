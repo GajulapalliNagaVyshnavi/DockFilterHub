{
  "nbformat": 4,
  "nbformat_minor": 0,
  "metadata": {
    "colab": {
      "provenance": [],
      "include_colab_link": true
    },
    "kernelspec": {
      "name": "python3",
      "display_name": "Python 3"
    },
    "language_info": {
      "name": "python"
    }
  },
  "cells": [
    {
      "cell_type": "markdown",
      "metadata": {
        "id": "view-in-github",
        "colab_type": "text"
      },
      "source": [
        "<a href=\"https://colab.research.google.com/github/GajulapalliNagaVyshnavi/DockFilterHub/blob/main/Docking_filtering_criteria_2.ipynb\" target=\"_parent\"><img src=\"https://colab.research.google.com/assets/colab-badge.svg\" alt=\"Open In Colab\"/></a>"
      ]
    },
    {
      "cell_type": "markdown",
      "source": [
        "# Include complexes with ligand-protein, ligand-small molecule, and ligand-metal ion distances ≥ 0.2 Å."
      ],
      "metadata": {
        "id": "43mmSC7wGHBh"
      }
    },
    {
      "cell_type": "code",
      "source": [
        "!pip install rdkit\n",
        "!pip install biopython"
      ],
      "metadata": {
        "colab": {
          "base_uri": "https://localhost:8080/"
        },
        "id": "5I5ohSRGGwbB",
        "outputId": "6b22e0f0-3123-4a92-d5d8-bf3ce48673a6"
      },
      "execution_count": null,
      "outputs": [
        {
          "output_type": "stream",
          "name": "stdout",
          "text": [
            "Collecting rdkit\n",
            "  Downloading rdkit-2024.9.4-cp311-cp311-manylinux_2_28_x86_64.whl.metadata (4.0 kB)\n",
            "Requirement already satisfied: numpy in /usr/local/lib/python3.11/dist-packages (from rdkit) (1.26.4)\n",
            "Requirement already satisfied: Pillow in /usr/local/lib/python3.11/dist-packages (from rdkit) (11.1.0)\n",
            "Downloading rdkit-2024.9.4-cp311-cp311-manylinux_2_28_x86_64.whl (34.2 MB)\n",
            "\u001b[2K   \u001b[90m━━━━━━━━━━━━━━━━━━━━━━━━━━━━━━━━━━━━━━━━\u001b[0m \u001b[32m34.2/34.2 MB\u001b[0m \u001b[31m42.2 MB/s\u001b[0m eta \u001b[36m0:00:00\u001b[0m\n",
            "\u001b[?25hInstalling collected packages: rdkit\n",
            "Successfully installed rdkit-2024.9.4\n",
            "Collecting biopython\n",
            "  Downloading biopython-1.85-cp311-cp311-manylinux_2_17_x86_64.manylinux2014_x86_64.whl.metadata (13 kB)\n",
            "Requirement already satisfied: numpy in /usr/local/lib/python3.11/dist-packages (from biopython) (1.26.4)\n",
            "Downloading biopython-1.85-cp311-cp311-manylinux_2_17_x86_64.manylinux2014_x86_64.whl (3.3 MB)\n",
            "\u001b[2K   \u001b[90m━━━━━━━━━━━━━━━━━━━━━━━━━━━━━━━━━━━━━━━━\u001b[0m \u001b[32m3.3/3.3 MB\u001b[0m \u001b[31m44.9 MB/s\u001b[0m eta \u001b[36m0:00:00\u001b[0m\n",
            "\u001b[?25hInstalling collected packages: biopython\n",
            "Successfully installed biopython-1.85\n"
          ]
        }
      ]
    },
    {
      "cell_type": "code",
      "execution_count": null,
      "metadata": {
        "colab": {
          "base_uri": "https://localhost:8080/"
        },
        "id": "eB-K-GbEGESl",
        "outputId": "896ad46e-6f76-4bbe-99a9-718b91f8ed5f"
      },
      "outputs": [
        {
          "output_type": "stream",
          "name": "stderr",
          "text": [
            "[04:39:48] Warning: molecule is tagged as 2D, but at least one Z coordinate is not zero. Marking the mol as 3D.\n"
          ]
        },
        {
          "output_type": "stream",
          "name": "stdout",
          "text": [
            "Complex Valid: True\n"
          ]
        }
      ],
      "source": [
        "from rdkit import Chem\n",
        "from rdkit.Chem import AllChem\n",
        "import numpy as np\n",
        "\n",
        "def parse_pdb(file_path):\n",
        "    \"\"\"Parse a PDB file and extract atom coordinates and types.\"\"\"\n",
        "    atoms = []\n",
        "    with open(file_path, 'r') as file:\n",
        "        for line in file:\n",
        "            if line.startswith(\"ATOM\") or line.startswith(\"HETATM\"):\n",
        "                atom_type = line[76:78].strip()\n",
        "                x, y, z = float(line[30:38]), float(line[38:46]), float(line[46:54])\n",
        "                atoms.append((atom_type, np.array([x, y, z])))\n",
        "    return atoms\n",
        "\n",
        "def parse_sdf(file_path):\n",
        "    \"\"\"Parse an SDF file and extract atom coordinates.\"\"\"\n",
        "    suppl = Chem.SDMolSupplier(file_path, removeHs=False)\n",
        "    if not suppl or len(suppl) == 0:\n",
        "        return []\n",
        "\n",
        "    mol = suppl[0]  # Take the first molecule\n",
        "    conf = mol.GetConformer()\n",
        "    atoms = [(atom.GetSymbol(), np.array(conf.GetAtomPosition(atom.GetIdx()))) for atom in mol.GetAtoms()]\n",
        "    return atoms\n",
        "\n",
        "def compute_distances(ligand_atoms, target_atoms):\n",
        "    \"\"\"Compute minimum distance between ligand atoms and target atoms.\"\"\"\n",
        "    min_distance = float('inf')\n",
        "    for _, lig_coord in ligand_atoms:\n",
        "        for _, target_coord in target_atoms:\n",
        "            distance = np.linalg.norm(lig_coord - target_coord)\n",
        "            min_distance = min(min_distance, distance)\n",
        "    return min_distance\n",
        "\n",
        "def check_ligand_complex(ligand_file, protein_file, pocket_file):\n",
        "    \"\"\"Check if ligand forms a valid complex with ligand-protein, ligand-small molecule, and ligand-metal ion distances ≥ 0.2 Å.\"\"\"\n",
        "    ligand_atoms = parse_sdf(ligand_file)\n",
        "    protein_atoms = parse_pdb(protein_file)\n",
        "    pocket_atoms = parse_pdb(pocket_file)\n",
        "\n",
        "    # Identify metal ions from the pocket or protein\n",
        "    metal_atoms = [atom for atom in protein_atoms + pocket_atoms if atom[0] in {\"ZN\", \"FE\", \"MG\", \"CA\", \"NA\"}]\n",
        "\n",
        "    # Compute minimum distances\n",
        "    ligand_protein_dist = compute_distances(ligand_atoms, protein_atoms)\n",
        "    ligand_small_molecule_dist = compute_distances(ligand_atoms, pocket_atoms)\n",
        "    ligand_metal_dist = compute_distances(ligand_atoms, metal_atoms)\n",
        "\n",
        "    # Check if all distances are ≥ 0.2 Å\n",
        "    return ligand_protein_dist >= 0.2 and ligand_small_molecule_dist >= 0.2 and ligand_metal_dist >= 0.2\n",
        "\n",
        "# Example usage\n",
        "ligand_file = \"/content/1a0q_ligand.sdf\"\n",
        "protein_file = \"/content/1a0q_protein.pdb\"\n",
        "pocket_file = \"/content/1a0q_pocket.pdb\"\n",
        "\n",
        "result = check_ligand_complex(ligand_file, protein_file, pocket_file)\n",
        "print(\"Complex Valid:\", result)\n"
      ]
    },
    {
      "cell_type": "markdown",
      "source": [
        "# Include ligands with correct connectivity, element assignment, hybridization, aromaticity, and Kekulé structure"
      ],
      "metadata": {
        "id": "yjiiMAWoIkCw"
      }
    },
    {
      "cell_type": "code",
      "source": [
        "from rdkit import Chem\n",
        "\n",
        "def validate_ligand_structure(sdf_file):\n",
        "    \"\"\"\n",
        "    Validates ligand structure by checking connectivity, element assignment,\n",
        "    hybridization, aromaticity, and Kekulé representation.\n",
        "\n",
        "    Parameters:\n",
        "        sdf_file (str): Path to the SDF file containing ligand structure.\n",
        "\n",
        "    Returns:\n",
        "        bool: True if the ligand passes all checks, False otherwise.\n",
        "    \"\"\"\n",
        "    supplier = Chem.SDMolSupplier(sdf_file, removeHs=False)\n",
        "    if not supplier or len(supplier) == 0:\n",
        "        return False\n",
        "\n",
        "    mol = supplier[0]\n",
        "    if mol is None:\n",
        "        return False\n",
        "\n",
        "    try:\n",
        "        Chem.SanitizeMol(mol, Chem.SanitizeFlags.SANITIZE_ALL)  # Ensures proper structure\n",
        "        kekule = Chem.MolToSmiles(mol, kekuleSmiles=True)  # Ensure Kekulé representation\n",
        "        return True\n",
        "    except:\n",
        "        return False\n",
        "\n",
        "# Example usage\n",
        "ligand_sdf = \"/content/1a0q_ligand.sdf\"\n",
        "print(\"Ligand valid:\", validate_ligand_structure(ligand_sdf))\n"
      ],
      "metadata": {
        "colab": {
          "base_uri": "https://localhost:8080/"
        },
        "id": "b-H25jOaGtoj",
        "outputId": "98dde091-b6ca-47fe-d68c-76f05aa85cc6"
      },
      "execution_count": null,
      "outputs": [
        {
          "output_type": "stream",
          "name": "stdout",
          "text": [
            "Ligand valid: True\n"
          ]
        },
        {
          "output_type": "stream",
          "name": "stderr",
          "text": [
            "[04:46:39] Warning: molecule is tagged as 2D, but at least one Z coordinate is not zero. Marking the mol as 3D.\n"
          ]
        }
      ]
    },
    {
      "cell_type": "markdown",
      "source": [
        "# Include only protein-ligand and ligand-water interactions, ligand chains within 4 Å, and pockets defined by PLIP interactions and neighboring residues"
      ],
      "metadata": {
        "id": "c_hYZfdwJiFZ"
      }
    },
    {
      "cell_type": "code",
      "source": [
        "import numpy as np\n",
        "\n",
        "def parse_pdb(file_path):\n",
        "    \"\"\"\n",
        "    Parses a PDB file and extracts:\n",
        "    - Protein atoms\n",
        "    - Water molecules (HOH)\n",
        "\n",
        "    Returns:\n",
        "        tuple: (protein_atoms, water_atoms)\n",
        "    \"\"\"\n",
        "    protein_atoms = []\n",
        "    water_atoms = []\n",
        "\n",
        "    with open(file_path, 'r') as file:\n",
        "        for line in file:\n",
        "            if line.startswith(\"ATOM\") or line.startswith(\"HETATM\"):\n",
        "                residue_name = line[17:20].strip()  # Residue name (HOH for water)\n",
        "                atom_type = line[76:78].strip()\n",
        "                x, y, z = float(line[30:38]), float(line[38:46]), float(line[46:54])\n",
        "                atom_data = (atom_type, np.array([x, y, z]))\n",
        "\n",
        "                if residue_name == \"HOH\":  # Identifying water molecules\n",
        "                    water_atoms.append(atom_data)\n",
        "                else:\n",
        "                    protein_atoms.append(atom_data)\n",
        "\n",
        "    return protein_atoms, water_atoms\n",
        "\n",
        "def compute_min_distance(set1, set2):\n",
        "    \"\"\"Computes the minimum distance between two sets of atoms.\"\"\"\n",
        "    if not set2:  # If the second set is empty, return a large value\n",
        "        return float('inf')\n",
        "\n",
        "    min_dist = float('inf')\n",
        "    for _, coord1 in set1:\n",
        "        for _, coord2 in set2:\n",
        "            distance = np.linalg.norm(coord1 - coord2)\n",
        "            min_dist = min(min_dist, distance)\n",
        "\n",
        "    return min_dist\n",
        "\n",
        "def filter_interactions(ligand_atoms, protein_atoms, water_atoms, max_distance=4.0):\n",
        "    \"\"\"\n",
        "    Filters interactions to include only:\n",
        "    - Protein-ligand interactions\n",
        "    - Ligand-water interactions\n",
        "    - Ligand chains within 4 Å\n",
        "\n",
        "    Returns:\n",
        "        bool: True if valid interactions exist, False otherwise.\n",
        "    \"\"\"\n",
        "    ligand_protein_dist = compute_min_distance(ligand_atoms, protein_atoms)\n",
        "    ligand_water_dist = compute_min_distance(ligand_atoms, water_atoms)\n",
        "\n",
        "    return ligand_protein_dist <= max_distance or ligand_water_dist <= max_distance\n",
        "\n",
        "# Example usage\n",
        "ligand_atoms = parse_sdf(\"/content/1a0q_ligand.sdf\")\n",
        "protein_atoms, water_atoms = parse_pdb(\"/content/1a0q_protein.pdb\")  # Separate water molecules\n",
        "\n",
        "print(\"Valid interactions:\", filter_interactions(ligand_atoms, protein_atoms, water_atoms))\n"
      ],
      "metadata": {
        "colab": {
          "base_uri": "https://localhost:8080/"
        },
        "id": "cMjt6j7pIcdd",
        "outputId": "5cf47b38-73a3-430d-b9a5-39ec03e07785"
      },
      "execution_count": null,
      "outputs": [
        {
          "output_type": "stream",
          "name": "stderr",
          "text": [
            "[04:52:47] Warning: molecule is tagged as 2D, but at least one Z coordinate is not zero. Marking the mol as 3D.\n"
          ]
        },
        {
          "output_type": "stream",
          "name": "stdout",
          "text": [
            "Valid interactions: True\n"
          ]
        }
      ]
    },
    {
      "cell_type": "markdown",
      "source": [
        "# Include entries with good conformations, non-polymeric ligands, non-racemic mixtures, supported elements, and non-highly symmetric ligands."
      ],
      "metadata": {
        "id": "zf0Y97-fKu-0"
      }
    },
    {
      "cell_type": "code",
      "source": [
        "from rdkit import Chem\n",
        "from rdkit.Chem import Descriptors\n",
        "\n",
        "def validate_ligand_properties(sdf_file):\n",
        "    \"\"\"\n",
        "    Checks if a ligand meets the following criteria:\n",
        "    - Good 3D conformation\n",
        "    - Non-polymeric ligand\n",
        "    - Non-racemic mixture\n",
        "    - Contains only supported elements\n",
        "    - Not highly symmetric\n",
        "\n",
        "    Parameters:\n",
        "        sdf_file (str): Path to the ligand SDF file.\n",
        "\n",
        "    Returns:\n",
        "        bool: True if the ligand is valid, False otherwise.\n",
        "    \"\"\"\n",
        "    supported_elements = {\"C\", \"H\", \"O\", \"N\", \"S\", \"P\", \"F\", \"Cl\", \"Br\", \"I\"}  # Common organic elements\n",
        "\n",
        "    supplier = Chem.SDMolSupplier(sdf_file, removeHs=False)\n",
        "    if not supplier or len(supplier) == 0:\n",
        "        return False  # Invalid file or empty ligand\n",
        "\n",
        "    mol = supplier[0]\n",
        "    if mol is None:\n",
        "        return False  # Failed to parse ligand\n",
        "\n",
        "    try:\n",
        "        # 1. Check if ligand has a valid 3D conformation\n",
        "        if mol.GetNumConformers() == 0:\n",
        "            return False  # No 3D structure available\n",
        "\n",
        "        # 2. Check if ligand is non-polymeric (avoid peptides & nucleotides)\n",
        "        if Chem.rdMolDescriptors.CalcNumRotatableBonds(mol) > 10:\n",
        "            return False  # Large flexible ligands are usually polymeric\n",
        "\n",
        "        # 3. Ensure ligand is non-racemic (chiral center consistency)\n",
        "        if Chem.rdMolDescriptors.CalcNumAtomStereoCenters(mol) > 1:\n",
        "            return False  # Likely a racemic mixture\n",
        "\n",
        "        # 4. Ensure ligand contains only supported elements\n",
        "        for atom in mol.GetAtoms():\n",
        "            if atom.GetSymbol() not in supported_elements:\n",
        "                return False  # Unsupported element found\n",
        "\n",
        "        # 5. Check for high symmetry (high rotational symmetry score)\n",
        "        symmetry = Descriptors.FractionCSP3(mol)  # Measures symmetry level\n",
        "        if symmetry < 0.1:  # Highly planar and symmetrical molecules\n",
        "            return False\n",
        "\n",
        "        return True  # Passes all checks\n",
        "\n",
        "    except Exception as e:\n",
        "        print(f\"Error processing ligand: {e}\")\n",
        "        return False\n",
        "\n",
        "# Example usage\n",
        "ligand_sdf = \"/content/1a0q_ligand.sdf\"\n",
        "print(\"Ligand valid:\", validate_ligand_properties(ligand_sdf))\n"
      ],
      "metadata": {
        "colab": {
          "base_uri": "https://localhost:8080/"
        },
        "id": "sobGXmIVJ2QB",
        "outputId": "938b94aa-3ec2-4e0a-86b4-4522ea1685df"
      },
      "execution_count": null,
      "outputs": [
        {
          "output_type": "stream",
          "name": "stdout",
          "text": [
            "Ligand valid: False\n"
          ]
        },
        {
          "output_type": "stream",
          "name": "stderr",
          "text": [
            "[04:56:28] Warning: molecule is tagged as 2D, but at least one Z coordinate is not zero. Marking the mol as 3D.\n"
          ]
        }
      ]
    },
    {
      "cell_type": "code",
      "source": [],
      "metadata": {
        "id": "shLcRFSPKsNR"
      },
      "execution_count": null,
      "outputs": []
    }
  ]
}